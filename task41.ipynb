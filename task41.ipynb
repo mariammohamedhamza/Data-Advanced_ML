{
 "cells": [
  {
   "cell_type": "code",
   "execution_count": null,
   "id": "df58d708",
   "metadata": {},
   "outputs": [],
   "source": [
    "import pandas as pd\n",
    "import numpy as np\n",
    "import matplotlib.pyplot as plt\n",
    "import seaborn as sns\n",
    "from sklearn.preprocessing import LabelEncoder\n",
    "from sklearn.cluster import KMeans\n",
    "from sklearn.preprocessing import StandardScaler"
   ]
  },
  {
   "cell_type": "code",
   "execution_count": null,
   "id": "4cc3fe3f",
   "metadata": {},
   "outputs": [],
   "source": [
    "df=pd.read_csv('/content/Mall_Customers.csv')"
   ]
  },
  {
   "cell_type": "code",
   "execution_count": null,
   "id": "37cfbf01",
   "metadata": {},
   "outputs": [],
   "source": [
    "df.head()"
   ]
  },
  {
   "cell_type": "code",
   "execution_count": null,
   "id": "7e4eac4b",
   "metadata": {},
   "outputs": [],
   "source": [
    "df.isnull().sum()"
   ]
  },
  {
   "cell_type": "code",
   "execution_count": null,
   "id": "0ec35e73",
   "metadata": {},
   "outputs": [],
   "source": [
    "df.duplicated().sum()"
   ]
  },
  {
   "cell_type": "code",
   "execution_count": null,
   "id": "89207594",
   "metadata": {},
   "outputs": [],
   "source": [
    "num=df.select_dtypes(include='number')\n",
    "plt.boxplot(num)\n",
    "plt.show()"
   ]
  },
  {
   "cell_type": "code",
   "execution_count": null,
   "id": "4d8bc282",
   "metadata": {},
   "outputs": [],
   "source": [
    "encoded=LabelEncoder()\n",
    "df['Gender']=encoded.fit_transform(df['Gender'])"
   ]
  },
  {
   "cell_type": "code",
   "execution_count": null,
   "id": "34c6f476",
   "metadata": {},
   "outputs": [],
   "source": [
    "df['Gender'].head()"
   ]
  },
  {
   "cell_type": "code",
   "execution_count": null,
   "id": "afa240f9",
   "metadata": {},
   "outputs": [],
   "source": [
    "df.head()"
   ]
  },
  {
   "cell_type": "code",
   "execution_count": null,
   "id": "08338aad",
   "metadata": {},
   "outputs": [],
   "source": [
    "X = df[[\"Annual Income (k$)\", \"Spending Score (1-100)\"]]"
   ]
  },
  {
   "cell_type": "code",
   "execution_count": null,
   "id": "9b38464e",
   "metadata": {},
   "outputs": [],
   "source": [
    "scaler = StandardScaler()\n",
    "X_scaled = scaler.fit_transform(X)"
   ]
  },
  {
   "cell_type": "code",
   "execution_count": null,
   "id": "ed0accf2",
   "metadata": {},
   "outputs": [],
   "source": [
    "wcss = []  # within cluster sum of squares\n",
    "for i in range(1, 11):\n",
    "    kmeans = KMeans(n_clusters=i, random_state=42, n_init=10)\n",
    "    kmeans.fit(X)\n",
    "    wcss.append(kmeans.inertia_)"
   ]
  },
  {
   "cell_type": "code",
   "execution_count": null,
   "id": "0aab1261",
   "metadata": {},
   "outputs": [],
   "source": [
    "plt.plot(range(1, 11), wcss, marker=\"o\")\n",
    "plt.title(\"Elbow Method\")\n",
    "plt.xlabel(\"Number of Clusters\")\n",
    "plt.ylabel(\"WCSS\")\n",
    "plt.show()"
   ]
  },
  {
   "cell_type": "code",
   "execution_count": null,
   "id": "ed1938f0",
   "metadata": {},
   "outputs": [],
   "source": [
    "from sklearn.metrics import silhouette_score\n",
    "\n",
    "scores = {}\n",
    "for k in range(2, 11):\n",
    "    km = KMeans(n_clusters=k, random_state=42, n_init=10)\n",
    "    labels = km.fit_predict(X)\n",
    "    s = silhouette_score(X, labels)\n",
    "    scores[k] = s\n",
    "    print(f\"score for k={k}: {s}\")\n",
    "\n",
    "print(scores)  ##########################################################################to get k which equal =5"
   ]
  },
  {
   "cell_type": "code",
   "execution_count": null,
   "id": "61739e66",
   "metadata": {},
   "outputs": [],
   "source": [
    "kmeans = KMeans(n_clusters=5, random_state=42, n_init=10)\n",
    "y_kmeans = kmeans.fit_predict(X)\n",
    "df[\"Cluster\"] = y_kmeans"
   ]
  },
  {
   "cell_type": "code",
   "execution_count": null,
   "id": "316c2372",
   "metadata": {},
   "outputs": [],
   "source": [
    "df.head()"
   ]
  },
  {
   "cell_type": "code",
   "execution_count": null,
   "id": "6c71a66d",
   "metadata": {},
   "outputs": [],
   "source": [
    "df['Cluster'].value_counts()"
   ]
  },
  {
   "cell_type": "code",
   "execution_count": null,
   "id": "44cc0e1a",
   "metadata": {},
   "outputs": [],
   "source": [
    "plt.figure(figsize=(8,6))\n",
    "plt.scatter(X.iloc[:,0], X.iloc[:,1], c=y_kmeans, cmap=\"viridis\", s=50)\n",
    "plt.scatter(kmeans.cluster_centers_[:,0], kmeans.cluster_centers_[:,1],\n",
    "            s=200, c=\"red\", marker=\"X\", label=\"Centroids\")\n",
    "plt.title(\"Customer Segmentation (Income vs Spending)\")\n",
    "plt.xlabel(\"Annual Income (k$)\")\n",
    "plt.ylabel(\"Spending Score (1-100)\")\n",
    "plt.legend()\n",
    "plt.show()"
   ]
  },
  {
   "cell_type": "code",
   "execution_count": null,
   "id": "1af3c863",
   "metadata": {},
   "outputs": [],
   "source": [
    "optimal_k = 5  #\n",
    "kmeans = KMeans(n_clusters=optimal_k, random_state=42, n_init=10)\n",
    "labels = kmeans.fit_predict(X)\n",
    "\n",
    "df[\"Cluster\"] = labels\n",
    "centers = kmeans.cluster_centers_\n",
    "print(\"Centroids (Income, Spending):\\n\", centers)"
   ]
  },
  {
   "cell_type": "code",
   "execution_count": null,
   "id": "85a62d50",
   "metadata": {},
   "outputs": [],
   "source": [
    "#BOUNS"
   ]
  },
  {
   "cell_type": "code",
   "execution_count": null,
   "id": "13bf1e1b",
   "metadata": {},
   "outputs": [],
   "source": [
    "from sklearn.cluster import DBSCAN"
   ]
  },
  {
   "cell_type": "code",
   "execution_count": null,
   "id": "5ac3ea0d",
   "metadata": {},
   "outputs": [],
   "source": [
    "dbscan = DBSCAN(eps=0.5, min_samples=5)\n",
    "labels = dbscan.fit_predict(X_scaled)\n",
    "\n",
    "df[\"Cluster\"] = labels"
   ]
  },
  {
   "cell_type": "code",
   "execution_count": null,
   "id": "c7a85ba7",
   "metadata": {},
   "outputs": [],
   "source": [
    "plt.figure(figsize=(8,6))\n",
    "plt.scatter(X[\"Annual Income (k$)\"], X[\"Spending Score (1-100)\"],\n",
    "            c=labels, cmap=\"plasma\", s=50)\n",
    "\n",
    "plt.title(\"DBSCAN Clustering (Income vs Spending)\")\n",
    "plt.xlabel(\"Annual Income (k$)\")\n",
    "plt.ylabel(\"Spending Score (1-100)\")\n",
    "plt.show()\n"
   ]
  },
  {
   "cell_type": "code",
   "execution_count": null,
   "id": "3d9ea6ac",
   "metadata": {},
   "outputs": [],
   "source": [
    "n_clusters = len(set(labels)) - (1 if -1 in labels else 0)\n",
    "n_outliers = list(labels).count(-1)\n",
    "\n",
    "print(\"Number of clusters:\", n_clusters)\n",
    "print(\"Number of outliers:\", n_outliers)"
   ]
  },
  {
   "cell_type": "code",
   "execution_count": null,
   "id": "67f31126",
   "metadata": {},
   "outputs": [],
   "source": [
    "cluster_analysis = df.groupby(\"Cluster\")[\"Spending Score (1-100)\"].agg([\"count\", \"mean\", \"median\"]).round(2)\n",
    "print(cluster_analysis)\n"
   ]
  },
  {
   "cell_type": "code",
   "execution_count": null,
   "id": "e48a7994",
   "metadata": {},
   "outputs": [],
   "source": [
    "import matplotlib.pyplot as plt\n",
    "\n",
    "cluster_analysis[\"mean\"].plot(kind=\"bar\", color=\"skyblue\", figsize=(8,5))\n",
    "plt.title(\"Average Spending Score per Cluster\")\n",
    "plt.xlabel(\"Cluster\")\n",
    "plt.ylabel(\"Average Spending Score\")\n",
    "plt.show()"
   ]
  }
 ],
 "metadata": {
  "language_info": {
   "name": "python"
  }
 },
 "nbformat": 4,
 "nbformat_minor": 5
}
