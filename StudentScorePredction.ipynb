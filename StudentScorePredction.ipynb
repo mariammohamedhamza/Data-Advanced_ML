{
 "cells": [
  {
   "cell_type": "code",
   "execution_count": null,
   "id": "e9793e01",
   "metadata": {},
   "outputs": [],
   "source": [
    "import seaborn as sns\n",
    "import matplotlib.pyplot as plt\n",
    "import numpy as np\n",
    "import pandas as pd\n",
    "from sklearn.preprocessing import StandardScaler\n",
    "from sklearn.preprocessing import MinMaxScaler"
   ]
  },
  {
   "cell_type": "code",
   "execution_count": null,
   "id": "04cb21cb",
   "metadata": {},
   "outputs": [],
   "source": [
    "import pandas as pd\n",
    "url = \"https://raw.githubusercontent.com/PStarH/student-performance-factor-analysis/main/StudentPerformanceFactors.csv\"\n",
    "df = pd.read_csv(url)\n",
    "df.head()"
   ]
  },
  {
   "cell_type": "markdown",
   "id": "44a4ad75",
   "metadata": {},
   "source": [
    "#Data Understanding"
   ]
  },
  {
   "cell_type": "code",
   "execution_count": null,
   "id": "5b810b51",
   "metadata": {},
   "outputs": [],
   "source": [
    " df.columns"
   ]
  },
  {
   "cell_type": "code",
   "execution_count": null,
   "id": "524a11de",
   "metadata": {},
   "outputs": [],
   "source": [
    " df.shape"
   ]
  },
  {
   "cell_type": "code",
   "execution_count": null,
   "id": "186c0655",
   "metadata": {},
   "outputs": [],
   "source": [
    "df.info()"
   ]
  },
  {
   "cell_type": "code",
   "execution_count": null,
   "id": "2832321f",
   "metadata": {},
   "outputs": [],
   "source": [
    "df.isnull().sum()"
   ]
  },
  {
   "cell_type": "code",
   "execution_count": null,
   "id": "85fec945",
   "metadata": {},
   "outputs": [],
   "source": [
    "df.describe()"
   ]
  },
  {
   "cell_type": "markdown",
   "id": "451ac36c",
   "metadata": {},
   "source": [
    "Data Cleaning "
   ]
  },
  {
   "cell_type": "code",
   "execution_count": null,
   "id": "9718c584",
   "metadata": {},
   "outputs": [],
   "source": [
    "df.duplicated().sum() #no duplicated data"
   ]
  },
  {
   "cell_type": "code",
   "execution_count": null,
   "id": "34bbfda5",
   "metadata": {},
   "outputs": [],
   "source": [
    "df.isnull().sum()"
   ]
  },
  {
   "cell_type": "code",
   "execution_count": null,
   "id": "4c49d6c5",
   "metadata": {},
   "outputs": [],
   "source": [
    "df['Teacher_Quality'].value_counts() #fill with mode 78 vs 3925 is normal"
   ]
  },
  {
   "cell_type": "code",
   "execution_count": null,
   "id": "4506e6f9",
   "metadata": {},
   "outputs": [],
   "source": [
    "mode_value = df['Teacher_Quality'].mode()[0]\n",
    "df['Teacher_Quality'].fillna(mode_value, inplace=True)      # replace it by Medium"
   ]
  },
  {
   "cell_type": "code",
   "execution_count": null,
   "id": "b58eb930",
   "metadata": {},
   "outputs": [],
   "source": [
    "df['Teacher_Quality'].isnull().sum()"
   ]
  },
  {
   "cell_type": "code",
   "execution_count": null,
   "id": "41cc3efc",
   "metadata": {},
   "outputs": [],
   "source": [
    "df['Parental_Education_Level'].value_counts()"
   ]
  },
  {
   "cell_type": "code",
   "execution_count": null,
   "id": "809b9168",
   "metadata": {},
   "outputs": [],
   "source": [
    "values = ['High School', 'College', 'Postgraduate']\n",
    "ratios = [3223, 1989, 1305]\n",
    "ratios = np.array(ratios) / sum(ratios)"
   ]
  },
  {
   "cell_type": "code",
   "execution_count": null,
   "id": "c52b410a",
   "metadata": {},
   "outputs": [],
   "source": [
    "imputed_values = np.random.choice(values, size=90, p=ratios)"
   ]
  },
  {
   "cell_type": "code",
   "execution_count": null,
   "id": "19f1046b",
   "metadata": {},
   "outputs": [],
   "source": [
    "df.loc[df['Parental_Education_Level'].isnull(), 'Parental_Education_Level'] = imputed_values"
   ]
  },
  {
   "cell_type": "code",
   "execution_count": null,
   "id": "8794ceee",
   "metadata": {},
   "outputs": [],
   "source": [
    "df['Parental_Education_Level'].isnull().sum()"
   ]
  },
  {
   "cell_type": "code",
   "execution_count": null,
   "id": "ab131735",
   "metadata": {},
   "outputs": [],
   "source": [
    "df['Distance_from_Home'].value_counts()"
   ]
  },
  {
   "cell_type": "code",
   "execution_count": null,
   "id": "b9968e47",
   "metadata": {},
   "outputs": [],
   "source": [
    "import matplotlib.pyplot as plt\n",
    "import seaborn as sns\n",
    "\n",
    "sns.histplot(df['Distance_from_Home'], kde=True)\n",
    "plt.title(\"Distribution of Distance_from_Home\")\n",
    "plt.show()\n"
   ]
  },
  {
   "cell_type": "code",
   "execution_count": null,
   "id": "121a7765",
   "metadata": {},
   "outputs": [],
   "source": [
    "mode_value = df['Distance_from_Home'].mode()[0]\n",
    "df['Distance_from_Home'].fillna(mode_value, inplace=True)"
   ]
  },
  {
   "cell_type": "code",
   "execution_count": null,
   "id": "bee21224",
   "metadata": {},
   "outputs": [],
   "source": [
    "df['Distance_from_Home'].isnull().sum()"
   ]
  },
  {
   "cell_type": "code",
   "execution_count": null,
   "id": "ad091a6f",
   "metadata": {},
   "outputs": [],
   "source": [
    "df.isnull().sum()"
   ]
  },
  {
   "cell_type": "code",
   "execution_count": null,
   "id": "457840a5",
   "metadata": {},
   "outputs": [],
   "source": [
    "numeric_columns = df.select_dtypes(include=['number'])\n",
    "plt.boxplot(numeric_columns.values, labels=numeric_columns.columns, vert=True)\n",
    "plt.show()"
   ]
  },
  {
   "cell_type": "code",
   "execution_count": null,
   "id": "395b6e79",
   "metadata": {},
   "outputs": [],
   "source": [
    "scaler = MinMaxScaler()\n",
    "normalized = scaler.fit_transform(numeric_columns)\n",
    "df_normalized = pd.DataFrame(normalized, columns=numeric_columns.columns)\n",
    "df_final = pd.concat([df_normalized, df.drop(columns=numeric_columns.columns)], axis=1)"
   ]
  },
  {
   "cell_type": "code",
   "execution_count": null,
   "id": "af69e67b",
   "metadata": {},
   "outputs": [],
   "source": [
    "df.info()"
   ]
  },
  {
   "cell_type": "code",
   "execution_count": null,
   "id": "6dfb2e5d",
   "metadata": {},
   "outputs": [],
   "source": [
    "df.head()"
   ]
  },
  {
   "cell_type": "code",
   "execution_count": null,
   "id": "ba20f11e",
   "metadata": {},
   "outputs": [],
   "source": [
    "order = {'Low': 0, 'Medium': 1, 'High': 2}\n",
    "df['Parental_Involvement'] = df['Parental_Involvement'].map(order)"
   ]
  },
  {
   "cell_type": "code",
   "execution_count": null,
   "id": "5d2c5608",
   "metadata": {},
   "outputs": [],
   "source": [
    "df['Access_to_Resources'].value_counts()"
   ]
  },
  {
   "cell_type": "code",
   "execution_count": null,
   "id": "9851b0a4",
   "metadata": {},
   "outputs": [],
   "source": [
    "order={'Low':0, 'Medium':1, 'High':2}\n",
    "df['Access_to_Resources']=df['Access_to_Resources'].map(order)"
   ]
  },
  {
   "cell_type": "code",
   "execution_count": null,
   "id": "a2127bb1",
   "metadata": {},
   "outputs": [],
   "source": [
    "df['Extracurricular_Activities'] = df['Extracurricular_Activities'].map({'Yes':1, 'No':0})"
   ]
  },
  {
   "cell_type": "code",
   "execution_count": null,
   "id": "d14047e9",
   "metadata": {},
   "outputs": [],
   "source": [
    "order={'Low':0, 'Medium':1, 'High':2}\n",
    "df['Motivation_Level']=df['Motivation_Level'].map(order)"
   ]
  },
  {
   "cell_type": "code",
   "execution_count": null,
   "id": "4c21e58b",
   "metadata": {},
   "outputs": [],
   "source": [
    "df['Internet_Access']=df['Internet_Access'].map({'Yes':1, 'No':0})"
   ]
  },
  {
   "cell_type": "code",
   "execution_count": null,
   "id": "c16c5391",
   "metadata": {},
   "outputs": [],
   "source": [
    "order={'Low':0, 'Medium':1, 'High':2}\n",
    "df['Family_Income']=df['Family_Income'].map(order)"
   ]
  },
  {
   "cell_type": "code",
   "execution_count": null,
   "id": "ae0a6f2a",
   "metadata": {},
   "outputs": [],
   "source": [
    "order={'Low':0, 'Medium':1, 'High':2}\n",
    "df['Teacher_Quality']=df['Teacher_Quality'].map(order)"
   ]
  },
  {
   "cell_type": "code",
   "execution_count": null,
   "id": "857d9db5",
   "metadata": {},
   "outputs": [],
   "source": [
    "df['School_Type'].value_counts()"
   ]
  },
  {
   "cell_type": "code",
   "execution_count": null,
   "id": "a4db7955",
   "metadata": {},
   "outputs": [],
   "source": [
    "df['School_Type']=df['School_Type'].map({'Public':1, 'Private':0})"
   ]
  },
  {
   "cell_type": "code",
   "execution_count": null,
   "id": "d574316b",
   "metadata": {},
   "outputs": [],
   "source": [
    "df['Peer_Influence'].value_counts()"
   ]
  },
  {
   "cell_type": "code",
   "execution_count": null,
   "id": "728e2369",
   "metadata": {},
   "outputs": [],
   "source": [
    "order={'Positive':0,'Neutral':1,'Negative':2}\n",
    "df['Peer_Influence']=df['Peer_Influence'].map(order)"
   ]
  },
  {
   "cell_type": "code",
   "execution_count": null,
   "id": "6efa99fd",
   "metadata": {},
   "outputs": [],
   "source": [
    "df['Learning_Disabilities']=df['Learning_Disabilities'].map({'Yes':1, 'No':0})"
   ]
  },
  {
   "cell_type": "code",
   "execution_count": null,
   "id": "0da5124b",
   "metadata": {},
   "outputs": [],
   "source": [
    "df['Parental_Education_Level'].value_counts()"
   ]
  },
  {
   "cell_type": "code",
   "execution_count": null,
   "id": "ad55c7e5",
   "metadata": {},
   "outputs": [],
   "source": [
    "ord={'High School':0, 'College':1, 'Postgraduate':2}\n",
    "df['Parental_Education_Level']=df['Parental_Education_Level'].map(ord)"
   ]
  },
  {
   "cell_type": "code",
   "execution_count": null,
   "id": "12bae21f",
   "metadata": {},
   "outputs": [],
   "source": [
    "df['Distance_from_Home'].value_counts()"
   ]
  },
  {
   "cell_type": "code",
   "execution_count": null,
   "id": "98f78581",
   "metadata": {},
   "outputs": [],
   "source": [
    "ord={'Near':0,'Moderate':1,'Far':2}\n",
    "df['Distance_from_Home']=df['Distance_from_Home'].map(ord)"
   ]
  },
  {
   "cell_type": "code",
   "execution_count": null,
   "id": "87846054",
   "metadata": {},
   "outputs": [],
   "source": [
    "df['Gender']=df['Gender'].map({'Female':1,'Male':0})"
   ]
  },
  {
   "cell_type": "markdown",
   "id": "f3af5143",
   "metadata": {},
   "source": [
    "Modeling"
   ]
  },
  {
   "cell_type": "code",
   "execution_count": null,
   "id": "98a957e9",
   "metadata": {},
   "outputs": [],
   "source": [
    "from sklearn.linear_model import LinearRegression\n",
    "from sklearn.model_selection import train_test_split\n",
    "from sklearn.metrics import mean_squared_error,r2_score,mean_absolute_error"
   ]
  },
  {
   "cell_type": "code",
   "execution_count": null,
   "id": "605d86a0",
   "metadata": {},
   "outputs": [],
   "source": [
    "x=df.drop(columns=['Exam_Score'])\n",
    "y=df['Exam_Score']"
   ]
  },
  {
   "cell_type": "code",
   "execution_count": null,
   "id": "117d4b3f",
   "metadata": {},
   "outputs": [],
   "source": [
    "x_train,x_test,y_train,y_test=train_test_split(x,y,test_size=0.2,random_state=42)"
   ]
  },
  {
   "cell_type": "code",
   "execution_count": null,
   "id": "687bc645",
   "metadata": {},
   "outputs": [],
   "source": [
    "model=LinearRegression()"
   ]
  },
  {
   "cell_type": "code",
   "execution_count": null,
   "id": "9163351d",
   "metadata": {},
   "outputs": [],
   "source": [
    "model.fit(x_train,y_train)"
   ]
  },
  {
   "cell_type": "code",
   "execution_count": null,
   "id": "f89aee48",
   "metadata": {},
   "outputs": [],
   "source": [
    "y_pred=model.predict(x_test)"
   ]
  },
  {
   "cell_type": "code",
   "execution_count": null,
   "id": "09a7d8a8",
   "metadata": {},
   "outputs": [],
   "source": [
    "mse = mean_squared_error(y_test, y_pred)\n",
    "print(\"Mean Squared Error (MSE):\", mse)"
   ]
  },
  {
   "cell_type": "code",
   "execution_count": null,
   "id": "8bcd88a6",
   "metadata": {},
   "outputs": [],
   "source": [
    "r2 = r2_score(y_test, y_pred)\n",
    "print(\"R² Score:\", r2)"
   ]
  },
  {
   "cell_type": "code",
   "execution_count": null,
   "id": "37164139",
   "metadata": {},
   "outputs": [],
   "source": [
    "results_df = pd.DataFrame({\n",
    "    'Actual': y_test,\n",
    "    'Predicted': y_pred\n",
    "})\n",
    "print(results_df.head())\n",
    "\n",
    "mse = mean_squared_error(y_test, y_pred)\n",
    "rmse = np.sqrt(mse)\n",
    "mae = mean_absolute_error(y_test, y_pred)\n",
    "r2 = r2_score(y_test, y_pred)\n",
    "\n",
    "print(\"\\n model value :\")\n",
    "print(f\"Mean Squared Error (MSE): {mse:.4f}\")\n",
    "print(f\"Mean Absolute Error (MAE): {mae:.4f}\")\n",
    "print(f\"R² Score: {r2:.4f}\")\n",
    "print('********************************************')\n",
    "\n",
    "plt.figure(figsize=(8,5))\n",
    "plt.scatter(y_test, y_pred, alpha=0.7)\n",
    "plt.plot([y_test.min(), y_test.max()], [y_test.min(), y_test.max()], 'r--', lw=2)\n",
    "plt.xlabel('Actual')\n",
    "plt.ylabel('Predicted')\n",
    "plt.title('Actual vs Predicted')\n",
    "plt.show()"
   ]
  },
  {
   "cell_type": "code",
   "execution_count": null,
   "id": "8e5ad30e",
   "metadata": {},
   "outputs": [],
   "source": [
    "#\"\"\"\"\"\"\"\"\"\"\"\"\"\"\"\" BONUS PART 1 \"\"\"\"\"\"\"\"\"\"\"\"\"\"\"\"#"
   ]
  },
  {
   "cell_type": "code",
   "execution_count": null,
   "id": "3827cb0d",
   "metadata": {},
   "outputs": [],
   "source": [
    "from sklearn.preprocessing import PolynomialFeatures  #call it"
   ]
  },
  {
   "cell_type": "code",
   "execution_count": null,
   "id": "2ec02704",
   "metadata": {},
   "outputs": [],
   "source": [
    "poly=PolynomialFeatures(degree=2,include_bias=False)   #2 make it ^2"
   ]
  },
  {
   "cell_type": "code",
   "execution_count": null,
   "id": "87ce32d5",
   "metadata": {},
   "outputs": [],
   "source": [
    "x_train_ploy=poly.fit_transform(x_train)\n",
    "x_test_poly=poly.transform(x_test)"
   ]
  },
  {
   "cell_type": "code",
   "execution_count": null,
   "id": "19faf58b",
   "metadata": {},
   "outputs": [],
   "source": [
    "poly_model=LinearRegression()"
   ]
  },
  {
   "cell_type": "code",
   "execution_count": null,
   "id": "81a8a8c0",
   "metadata": {},
   "outputs": [],
   "source": [
    "poly_model.fit(x_train_ploy,y_train)"
   ]
  },
  {
   "cell_type": "code",
   "execution_count": null,
   "id": "19d05815",
   "metadata": {},
   "outputs": [],
   "source": [
    "y_pred_poly=poly_model.predict(x_test_poly)"
   ]
  },
  {
   "cell_type": "code",
   "execution_count": null,
   "id": "80be530f",
   "metadata": {},
   "outputs": [],
   "source": [
    "r2_poly=r2_score(y_test,y_pred_poly)\n",
    "r2_poly"
   ]
  },
  {
   "cell_type": "code",
   "execution_count": null,
   "id": "558e6d98",
   "metadata": {},
   "outputs": [],
   "source": [
    "print(\"\\n Linear Regression (Original Model)\")\n",
    "print(f\"R²: {r2:.2f}%\")\n",
    "print('*************************************')\n",
    "print(\" Polynomial Regression Results (degree=2)\")\n",
    "print(f\"R²: {r2_poly:.2f}%\")"
   ]
  },
  {
   "cell_type": "code",
   "execution_count": null,
   "id": "1b73bf37",
   "metadata": {},
   "outputs": [],
   "source": [
    "#\"\"\"\"\"\"\"\"\"\"\"\"\"\"\"\" BONUS PART 2 \"\"\"\"\"\"\"\"\"\"\"\"\"\"\"\"#"
   ]
  },
  {
   "cell_type": "code",
   "execution_count": null,
   "id": "aaf4e0b0",
   "metadata": {},
   "outputs": [],
   "source": [
    "df.head()"
   ]
  },
  {
   "cell_type": "code",
   "execution_count": null,
   "id": "e036b6b3",
   "metadata": {},
   "outputs": [],
   "source": [
    "feature_sets = {\n",
    "    \"All Features\": list(x_train.columns),\n",
    "    \"Without Sleep\": [col for col in x_train.columns if col != 'Sleep_Hours'],\n",
    "    \"Without Participation\": [col for col in x_train.columns if col != 'Extracurricular_Activities'],\n",
    "    \"Only Sleep & Participation\": ['Sleep_Hours', 'Extracurricular_Activities'],\n",
    "    \"Without Sleep & Participation\": [col for col in x_train.columns if col not in ['Sleep_Hours', 'Extracurricular_Activities']]\n",
    "}\n",
    "results = []"
   ]
  },
  {
   "cell_type": "code",
   "execution_count": null,
   "id": "9849c3f3",
   "metadata": {},
   "outputs": [],
   "source": [
    "for name, features in feature_sets.items():\n",
    "    X_train_sel = x_train[features]\n",
    "    X_test_sel = x_test[features]"
   ]
  },
  {
   "cell_type": "code",
   "execution_count": null,
   "id": "a7f57741",
   "metadata": {},
   "outputs": [],
   "source": [
    "model.fit(X_train_sel, y_train)\n",
    "y_pred = model.predict(X_test_sel)"
   ]
  },
  {
   "cell_type": "code",
   "execution_count": null,
   "id": "c72ce9b7",
   "metadata": {},
   "outputs": [],
   "source": [
    "mse = mean_squared_error(y_test, y_pred)\n",
    "r2 = r2_score(y_test, y_pred)\n",
    "results.append([name, mse, rmse, r2])"
   ]
  },
  {
   "cell_type": "code",
   "execution_count": null,
   "id": "60950c92",
   "metadata": {},
   "outputs": [],
   "source": [
    "results_df = pd.DataFrame(results, columns=[\"Feature Set\", \"MSE\", \"RMSE\", \"R²\"])\n",
    "print(results_df)"
   ]
  }
 ],
 "metadata": {
  "language_info": {
   "name": "python"
  }
 },
 "nbformat": 4,
 "nbformat_minor": 5
}
